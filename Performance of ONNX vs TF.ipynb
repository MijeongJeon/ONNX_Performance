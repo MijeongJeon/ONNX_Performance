{
  "cells": [
    {
      "cell_type": "markdown",
      "source": [
        "## ALGYAN Community 2022.09.26. 月曜日\n",
        "### エッジAI入門＆活用シリーズ#2 『ONNXモデル』 編\n",
        "### ONNXモデルと既存ディープラーニングモデルとの性能比較 : Tensorflow vs ONNX - 全美貞(Mijeong Jeon)\n",
        "\n",
        "### コンテンツ一覧\n",
        "1. パッケージのインストール\n",
        "2. MNIST Tensorflow モデルのトレーニング\n",
        "3. TF を変換 -> ONNX\n",
        "4. TF と ONNX のパフォーマンスの比較 1. 精度\n",
        "5. TF と ONNX のパフォーマンスの比較 2. 速度\n",
        "\n",
        "### Dependency \n",
        "* Python 3.8\n",
        "* Tensorflow 2.9.1\n",
        "* tf2onnx 1.12.1\n",
        "* onnx 1.12.0\n",
        "* onnxruntime 1.12.1\n"
      ],
      "metadata": {
        "nteract": {
          "transient": {
            "deleting": false
          }
        }
      }
    },
    {
      "cell_type": "code",
      "source": [
        "# 1. tf2onnx(tf -> onnx) パッケージをインストール\n",
        "\n",
        "!pip install tf2onnx"
      ],
      "outputs": [],
      "execution_count": null,
      "metadata": {
        "gather": {
          "logged": 1663906633586
        }
      }
    },
    {
      "cell_type": "code",
      "source": [
        "# 2. MNIST Tensorflow モデルのトレーニング\n",
        "\n",
        "import tensorflow as tf\n",
        "\n",
        "# MNIST データセットの読み込み\n",
        "(train_X, train_y), (test_X, test_y) = tf.keras.datasets.mnist.load_data()\n",
        "train_X, test_X = train_X/255.0, test_X/255.0\n",
        "\n",
        "# CNN モデル ネットワーク\n",
        "tf_model = tf.keras.Sequential(\n",
        "    [\n",
        "        tf.keras.layers.Conv2D(16, kernel_size=(3, 3), activation='relu', input_shape=(28, 28, 1)),\n",
        "        tf.keras.layers.MaxPooling2D(pool_size=(2, 2)),\n",
        "        tf.keras.layers.Conv2D(32, kernel_size=(3, 3), activation='relu'),\n",
        "        tf.keras.layers.MaxPooling2D(pool_size=(2, 2)),\n",
        "        tf.keras.layers.Conv2D(32, kernel_size=(3, 3), activation='relu'),\n",
        "        tf.keras.layers.Flatten(),\n",
        "        tf.keras.layers.Dense(64, activation='relu'),\n",
        "        tf.keras.layers.Dense(10, activation='softmax')\n",
        "    ]\n",
        ")\n",
        "\n",
        "# モデルコンパイル\n",
        "tf_model.compile(\n",
        "    loss='sparse_categorical_crossentropy',\n",
        "    optimizer='adam',\n",
        "    metrics=['accuracy']\n",
        ") \n",
        "\n",
        "# 訓練モデル\n",
        "tf_model.fit(train_X, train_y)\n",
        "\n",
        "# トレーニング済み TF モデルの保存\n",
        "tf_model.save('tf_model', include_optimizer=False)"
      ],
      "outputs": [
        {
          "output_type": "stream",
          "name": "stderr",
          "text": "2022-09-23 06:19:09.368697: E tensorflow/stream_executor/cuda/cuda_driver.cc:271] failed call to cuInit: CUDA_ERROR_NO_DEVICE: no CUDA-capable device is detected\n2022-09-23 06:19:09.368774: I tensorflow/stream_executor/cuda/cuda_diagnostics.cc:156] kernel driver does not appear to be running on this host (computer-cpu): /proc/driver/nvidia/version does not exist\n2022-09-23 06:19:09.369548: I tensorflow/core/platform/cpu_feature_guard.cc:193] This TensorFlow binary is optimized with oneAPI Deep Neural Network Library (oneDNN) to use the following CPU instructions in performance-critical operations:  AVX2 FMA\nTo enable them in other operations, rebuild TensorFlow with the appropriate compiler flags.\n"
        },
        {
          "output_type": "stream",
          "name": "stdout",
          "text": "1875/1875 [==============================] - 14s 7ms/step - loss: 0.1848 - accuracy: 0.9438\b\b\b\b\b\b\b\b\b\b\b\b\b\b\b\b\b\b\b\b\b\b\b\b\b\b\b\b\b\b\b\b\b\b\b\b\b\b\b\b\b\b\b\b\b\b\b\b\b\b\b\b\b\b\b\b\b\b\b\b\b\b\b\b\b\b\b\b\b\b\b\b\b\b\b\b\b\b\b\b\b\b\b\b\b\b\b\nINFO:tensorflow:Assets written to: tf_model/assets\n"
        }
      ],
      "execution_count": 2,
      "metadata": {
        "jupyter": {
          "source_hidden": false,
          "outputs_hidden": false
        },
        "nteract": {
          "transient": {
            "deleting": false
          }
        },
        "gather": {
          "logged": 1663913965626
        }
      }
    },
    {
      "cell_type": "code",
      "source": [
        "# 3. TF モデルを ONNX モデルに変換する\n",
        "\n",
        "!python -m tf2onnx.convert --saved-model tf_model --output onnx_model.onnx --opset 15"
      ],
      "outputs": [
        {
          "output_type": "stream",
          "name": "stdout",
          "text": "/anaconda/envs/azureml_py38/lib/python3.8/runpy.py:127: RuntimeWarning: 'tf2onnx.convert' found in sys.modules after import of package 'tf2onnx', but prior to execution of 'tf2onnx.convert'; this may result in unpredictable behaviour\n  warn(RuntimeWarning(msg))\n2022-09-23 06:20:32,535 - WARNING - '--tag' not specified for saved_model. Using --tag serve\n2022-09-23 06:20:33,080 - INFO - Signatures found in model: [serving_default].\n2022-09-23 06:20:33,080 - WARNING - '--signature_def' not specified, using first signature: serving_default\n2022-09-23 06:20:33,081 - INFO - Output names: ['dense_1']\nWARNING:tensorflow:From /anaconda/envs/azureml_py38/lib/python3.8/site-packages/tf2onnx/tf_loader.py:715: extract_sub_graph (from tensorflow.python.framework.graph_util_impl) is deprecated and will be removed in a future version.\nInstructions for updating:\nUse `tf.compat.v1.graph_util.extract_sub_graph`\n2022-09-23 06:20:33,269 - WARNING - From /anaconda/envs/azureml_py38/lib/python3.8/site-packages/tf2onnx/tf_loader.py:715: extract_sub_graph (from tensorflow.python.framework.graph_util_impl) is deprecated and will be removed in a future version.\nInstructions for updating:\nUse `tf.compat.v1.graph_util.extract_sub_graph`\n2022-09-23 06:20:33,293 - INFO - Using tensorflow=2.2.0, onnx=1.12.0, tf2onnx=1.12.1/b6d590\n2022-09-23 06:20:33,293 - INFO - Using opset <onnx, 15>\n2022-09-23 06:20:33,315 - INFO - Computed 0 values for constant folding\n2022-09-23 06:20:33,347 - INFO - Optimizing ONNX model\n2022-09-23 06:20:33,421 - INFO - After optimization: Cast -1 (1->0), Const +1 (11->12), Identity -2 (2->0), Reshape +1 (1->2), Transpose -9 (10->1)\n2022-09-23 06:20:33,469 - INFO - \n2022-09-23 06:20:33,469 - INFO - Successfully converted TensorFlow model tf_model to ONNX\n2022-09-23 06:20:33,469 - INFO - Model inputs: ['conv2d_input']\n2022-09-23 06:20:33,469 - INFO - Model outputs: ['dense_1']\n2022-09-23 06:20:33,469 - INFO - ONNX model is saved at onnx_model.onnx\nWARNING:tensorflow:Unresolved object in checkpoint: (root).__call__\n2022-09-23 06:20:33,563 - WARNING - Unresolved object in checkpoint: (root).__call__\nWARNING:tensorflow:Unresolved object in checkpoint: (root).call_and_return_all_conditional_losses\n2022-09-23 06:20:33,563 - WARNING - Unresolved object in checkpoint: (root).call_and_return_all_conditional_losses\nWARNING:tensorflow:Unresolved object in checkpoint: (root)._default_save_signature\n2022-09-23 06:20:33,563 - WARNING - Unresolved object in checkpoint: (root)._default_save_signature\nWARNING:tensorflow:Unresolved object in checkpoint: (root).layer_with_weights-0.__call__\n2022-09-23 06:20:33,563 - WARNING - Unresolved object in checkpoint: (root).layer_with_weights-0.__call__\nWARNING:tensorflow:Unresolved object in checkpoint: (root).layer_with_weights-0.call_and_return_all_conditional_losses\n2022-09-23 06:20:33,563 - WARNING - Unresolved object in checkpoint: (root).layer_with_weights-0.call_and_return_all_conditional_losses\nWARNING:tensorflow:Unresolved object in checkpoint: (root).layer_with_weights-0._jit_compiled_convolution_op\n2022-09-23 06:20:33,563 - WARNING - Unresolved object in checkpoint: (root).layer_with_weights-0._jit_compiled_convolution_op\nWARNING:tensorflow:Unresolved object in checkpoint: (root).layer-1.__call__\n2022-09-23 06:20:33,563 - WARNING - Unresolved object in checkpoint: (root).layer-1.__call__\nWARNING:tensorflow:Unresolved object in checkpoint: (root).layer-1.call_and_return_all_conditional_losses\n2022-09-23 06:20:33,563 - WARNING - Unresolved object in checkpoint: (root).layer-1.call_and_return_all_conditional_losses\nWARNING:tensorflow:Unresolved object in checkpoint: (root).layer_with_weights-1.__call__\n2022-09-23 06:20:33,564 - WARNING - Unresolved object in checkpoint: (root).layer_with_weights-1.__call__\nWARNING:tensorflow:Unresolved object in checkpoint: (root).layer_with_weights-1.call_and_return_all_conditional_losses\n2022-09-23 06:20:33,564 - WARNING - Unresolved object in checkpoint: (root).layer_with_weights-1.call_and_return_all_conditional_losses\nWARNING:tensorflow:Unresolved object in checkpoint: (root).layer_with_weights-1._jit_compiled_convolution_op\n2022-09-23 06:20:33,564 - WARNING - Unresolved object in checkpoint: (root).layer_with_weights-1._jit_compiled_convolution_op\nWARNING:tensorflow:Unresolved object in checkpoint: (root).layer-3.__call__\n2022-09-23 06:20:33,564 - WARNING - Unresolved object in checkpoint: (root).layer-3.__call__\nWARNING:tensorflow:Unresolved object in checkpoint: (root).layer-3.call_and_return_all_conditional_losses\n2022-09-23 06:20:33,564 - WARNING - Unresolved object in checkpoint: (root).layer-3.call_and_return_all_conditional_losses\nWARNING:tensorflow:Unresolved object in checkpoint: (root).layer_with_weights-2.__call__\n2022-09-23 06:20:33,564 - WARNING - Unresolved object in checkpoint: (root).layer_with_weights-2.__call__\nWARNING:tensorflow:Unresolved object in checkpoint: (root).layer_with_weights-2.call_and_return_all_conditional_losses\n2022-09-23 06:20:33,564 - WARNING - Unresolved object in checkpoint: (root).layer_with_weights-2.call_and_return_all_conditional_losses\nWARNING:tensorflow:Unresolved object in checkpoint: (root).layer_with_weights-2._jit_compiled_convolution_op\n2022-09-23 06:20:33,564 - WARNING - Unresolved object in checkpoint: (root).layer_with_weights-2._jit_compiled_convolution_op\nWARNING:tensorflow:Unresolved object in checkpoint: (root).layer-5.__call__\n2022-09-23 06:20:33,564 - WARNING - Unresolved object in checkpoint: (root).layer-5.__call__\nWARNING:tensorflow:Unresolved object in checkpoint: (root).layer-5.call_and_return_all_conditional_losses\n2022-09-23 06:20:33,564 - WARNING - Unresolved object in checkpoint: (root).layer-5.call_and_return_all_conditional_losses\nWARNING:tensorflow:Unresolved object in checkpoint: (root).layer_with_weights-3.__call__\n2022-09-23 06:20:33,564 - WARNING - Unresolved object in checkpoint: (root).layer_with_weights-3.__call__\nWARNING:tensorflow:Unresolved object in checkpoint: (root).layer_with_weights-3.call_and_return_all_conditional_losses\n2022-09-23 06:20:33,564 - WARNING - Unresolved object in checkpoint: (root).layer_with_weights-3.call_and_return_all_conditional_losses\nWARNING:tensorflow:Unresolved object in checkpoint: (root).layer_with_weights-4.__call__\n2022-09-23 06:20:33,564 - WARNING - Unresolved object in checkpoint: (root).layer_with_weights-4.__call__\nWARNING:tensorflow:Unresolved object in checkpoint: (root).layer_with_weights-4.call_and_return_all_conditional_losses\n2022-09-23 06:20:33,564 - WARNING - Unresolved object in checkpoint: (root).layer_with_weights-4.call_and_return_all_conditional_losses\nWARNING:tensorflow:Unresolved object in checkpoint: (root).__call__.trace_0\n2022-09-23 06:20:33,564 - WARNING - Unresolved object in checkpoint: (root).__call__.trace_0\nWARNING:tensorflow:Unresolved object in checkpoint: (root).__call__.trace_1\n2022-09-23 06:20:33,565 - WARNING - Unresolved object in checkpoint: (root).__call__.trace_1\nWARNING:tensorflow:Unresolved object in checkpoint: (root).__call__.trace_2\n2022-09-23 06:20:33,565 - WARNING - Unresolved object in checkpoint: (root).__call__.trace_2\nWARNING:tensorflow:Unresolved object in checkpoint: (root).__call__.trace_3\n2022-09-23 06:20:33,565 - WARNING - Unresolved object in checkpoint: (root).__call__.trace_3\nWARNING:tensorflow:Unresolved object in checkpoint: (root).call_and_return_all_conditional_losses.trace_0\n2022-09-23 06:20:33,565 - WARNING - Unresolved object in checkpoint: (root).call_and_return_all_conditional_losses.trace_0\nWARNING:tensorflow:Unresolved object in checkpoint: (root).call_and_return_all_conditional_losses.trace_1\n2022-09-23 06:20:33,565 - WARNING - Unresolved object in checkpoint: (root).call_and_return_all_conditional_losses.trace_1\nWARNING:tensorflow:Unresolved object in checkpoint: (root).call_and_return_all_conditional_losses.trace_2\n2022-09-23 06:20:33,565 - WARNING - Unresolved object in checkpoint: (root).call_and_return_all_conditional_losses.trace_2\nWARNING:tensorflow:Unresolved object in checkpoint: (root).call_and_return_all_conditional_losses.trace_3\n2022-09-23 06:20:33,565 - WARNING - Unresolved object in checkpoint: (root).call_and_return_all_conditional_losses.trace_3\nWARNING:tensorflow:Unresolved object in checkpoint: (root).signatures.serving_default\n2022-09-23 06:20:33,565 - WARNING - Unresolved object in checkpoint: (root).signatures.serving_default\nWARNING:tensorflow:Unresolved object in checkpoint: (root).layer_with_weights-0.__call__.trace_0\n2022-09-23 06:20:33,565 - WARNING - Unresolved object in checkpoint: (root).layer_with_weights-0.__call__.trace_0\nWARNING:tensorflow:Unresolved object in checkpoint: (root).layer_with_weights-0.call_and_return_all_conditional_losses.trace_0\n2022-09-23 06:20:33,565 - WARNING - Unresolved object in checkpoint: (root).layer_with_weights-0.call_and_return_all_conditional_losses.trace_0\nWARNING:tensorflow:Unresolved object in checkpoint: (root).layer-1.__call__.trace_0\n2022-09-23 06:20:33,565 - WARNING - Unresolved object in checkpoint: (root).layer-1.__call__.trace_0\nWARNING:tensorflow:Unresolved object in checkpoint: (root).layer-1.call_and_return_all_conditional_losses.trace_0\n2022-09-23 06:20:33,565 - WARNING - Unresolved object in checkpoint: (root).layer-1.call_and_return_all_conditional_losses.trace_0\nWARNING:tensorflow:Unresolved object in checkpoint: (root).layer_with_weights-1.__call__.trace_0\n2022-09-23 06:20:33,565 - WARNING - Unresolved object in checkpoint: (root).layer_with_weights-1.__call__.trace_0\nWARNING:tensorflow:Unresolved object in checkpoint: (root).layer_with_weights-1.call_and_return_all_conditional_losses.trace_0\n2022-09-23 06:20:33,565 - WARNING - Unresolved object in checkpoint: (root).layer_with_weights-1.call_and_return_all_conditional_losses.trace_0\nWARNING:tensorflow:Unresolved object in checkpoint: (root).layer-3.__call__.trace_0\n2022-09-23 06:20:33,565 - WARNING - Unresolved object in checkpoint: (root).layer-3.__call__.trace_0\nWARNING:tensorflow:Unresolved object in checkpoint: (root).layer-3.call_and_return_all_conditional_losses.trace_0\n2022-09-23 06:20:33,565 - WARNING - Unresolved object in checkpoint: (root).layer-3.call_and_return_all_conditional_losses.trace_0\nWARNING:tensorflow:Unresolved object in checkpoint: (root).layer_with_weights-2.__call__.trace_0\n2022-09-23 06:20:33,566 - WARNING - Unresolved object in checkpoint: (root).layer_with_weights-2.__call__.trace_0\nWARNING:tensorflow:Unresolved object in checkpoint: (root).layer_with_weights-2.call_and_return_all_conditional_losses.trace_0\n2022-09-23 06:20:33,566 - WARNING - Unresolved object in checkpoint: (root).layer_with_weights-2.call_and_return_all_conditional_losses.trace_0\nWARNING:tensorflow:Unresolved object in checkpoint: (root).layer-5.__call__.trace_0\n2022-09-23 06:20:33,566 - WARNING - Unresolved object in checkpoint: (root).layer-5.__call__.trace_0\nWARNING:tensorflow:Unresolved object in checkpoint: (root).layer-5.call_and_return_all_conditional_losses.trace_0\n2022-09-23 06:20:33,566 - WARNING - Unresolved object in checkpoint: (root).layer-5.call_and_return_all_conditional_losses.trace_0\nWARNING:tensorflow:Unresolved object in checkpoint: (root).layer_with_weights-3.__call__.trace_0\n2022-09-23 06:20:33,566 - WARNING - Unresolved object in checkpoint: (root).layer_with_weights-3.__call__.trace_0\nWARNING:tensorflow:Unresolved object in checkpoint: (root).layer_with_weights-3.call_and_return_all_conditional_losses.trace_0\n2022-09-23 06:20:33,566 - WARNING - Unresolved object in checkpoint: (root).layer_with_weights-3.call_and_return_all_conditional_losses.trace_0\nWARNING:tensorflow:Unresolved object in checkpoint: (root).layer_with_weights-4.__call__.trace_0\n2022-09-23 06:20:33,566 - WARNING - Unresolved object in checkpoint: (root).layer_with_weights-4.__call__.trace_0\nWARNING:tensorflow:Unresolved object in checkpoint: (root).layer_with_weights-4.call_and_return_all_conditional_losses.trace_0\n2022-09-23 06:20:33,566 - WARNING - Unresolved object in checkpoint: (root).layer_with_weights-4.call_and_return_all_conditional_losses.trace_0\nWARNING:tensorflow:A checkpoint was restored (e.g. tf.train.Checkpoint.restore or tf.keras.Model.load_weights) but not all checkpointed values were used. See above for specific issues. Use expect_partial() on the load status object, e.g. tf.train.Checkpoint.restore(...).expect_partial(), to silence these warnings, or use assert_consumed() to make the check explicit. See https://www.tensorflow.org/guide/checkpoint#loading_mechanics for details.\n2022-09-23 06:20:33,566 - WARNING - A checkpoint was restored (e.g. tf.train.Checkpoint.restore or tf.keras.Model.load_weights) but not all checkpointed values were used. See above for specific issues. Use expect_partial() on the load status object, e.g. tf.train.Checkpoint.restore(...).expect_partial(), to silence these warnings, or use assert_consumed() to make the check explicit. See https://www.tensorflow.org/guide/checkpoint#loading_mechanics for details.\n"
        }
      ],
      "execution_count": 3,
      "metadata": {
        "jupyter": {
          "source_hidden": false,
          "outputs_hidden": false
        },
        "nteract": {
          "transient": {
            "deleting": false
          }
        },
        "gather": {
          "logged": 1663914034157
        }
      }
    },
    {
      "cell_type": "code",
      "source": [
        "# 4. TF モデルと ONNX モデル : 精度の予測\n",
        "\n",
        "import onnxruntime\n",
        "from sklearn.metrics import accuracy_score\n",
        "import numpy as np\n",
        "\n",
        "onnx_model = onnxruntime.InferenceSession('onnx_model.onnx', providers=['CPUExecutionProvider'])\n",
        "\n",
        "test_X = test_X.reshape(-1,28,28,1).astype('float32')\n",
        "\n",
        "tf_result = tf_model(test_X)\n",
        "onnx_result = onnx_model.run(None,{onnx_model.get_inputs()[0].name: test_X})[0]\n",
        "\n",
        "print(\"tf result: \", accuracy_score(np.argmax(tf_result, axis=1), test_y))\n",
        "print(\"onnx result: \", accuracy_score(np.argmax(onnx_result, axis=1), test_y))"
      ],
      "outputs": [
        {
          "output_type": "stream",
          "name": "stdout",
          "text": "tf result:  0.9813\nonnx result:  0.9813\n"
        }
      ],
      "execution_count": 4,
      "metadata": {
        "jupyter": {
          "source_hidden": false,
          "outputs_hidden": false
        },
        "nteract": {
          "transient": {
            "deleting": false
          }
        },
        "gather": {
          "logged": 1663914043304
        }
      }
    },
    {
      "cell_type": "code",
      "source": [
        "# 5. TF モデルと ONNX モデル: 推論速度\n",
        "\n",
        "import time\n",
        "\n",
        "# Tensorflow Time\n",
        "tf_start = time.time()\n",
        "tf_model(test_X)\n",
        "tf_time = time.time() - tf_start\n",
        "print(\"tf running time: \", tf_time)\n",
        "\n",
        "# ONNX Time\n",
        "onnx_start = time.time()\n",
        "onnx_model.run(None,{\n",
        "            onnx_model.get_inputs()[0].name: test_X\n",
        "        })\n",
        "onnx_time = time.time() - onnx_start\n",
        "print(\"onnx running time: \", onnx_time)"
      ],
      "outputs": [
        {
          "output_type": "stream",
          "name": "stdout",
          "text": "tf running time:  0.3586733341217041\nonnx running time:  0.15854907035827637\n"
        }
      ],
      "execution_count": 6,
      "metadata": {
        "jupyter": {
          "source_hidden": false,
          "outputs_hidden": false
        },
        "nteract": {
          "transient": {
            "deleting": false
          }
        },
        "gather": {
          "logged": 1663914073601
        }
      }
    },
    {
      "cell_type": "code",
      "source": [
        "import matplotlib.pyplot as plt\n",
        "\n",
        "plt.figure()\n",
        "\n",
        "frameworks = [\"Tensorflow\", \"ONNX\"]\n",
        "times = [tf_time, onnx_time]\n",
        "\n",
        "plt.bar(frameworks[0], times[0])\n",
        "plt.bar(frameworks[1], times[1])\n",
        "plt.show()\n"
      ],
      "outputs": [
        {
          "output_type": "display_data",
          "data": {
            "text/plain": "<Figure size 432x288 with 1 Axes>",
            "image/png": "[encoded data removed]"
          },
          "metadata": {
            "needs_background": "light"
          }
        }
      ],
      "execution_count": 7,
      "metadata": {
        "jupyter": {
          "source_hidden": false,
          "outputs_hidden": false
        },
        "nteract": {
          "transient": {
            "deleting": false
          }
        },
        "gather": {
          "logged": 1663914077186
        }
      }
    }
  ],
  "metadata": {
    "kernelspec": {
      "name": "python38-azureml-pt-tf",
      "language": "python",
      "display_name": "Python 3.8 - Pytorch and Tensorflow"
    },
    "language_info": {
      "name": "python",
      "version": "3.8.5",
      "mimetype": "text/x-python",
      "codemirror_mode": {
        "name": "ipython",
        "version": 3
      },
      "pygments_lexer": "ipython3",
      "nbconvert_exporter": "python",
      "file_extension": ".py"
    },
    "kernel_info": {
      "name": "python38-azureml-pt-tf"
    },
    "nteract": {
      "version": "nteract-front-end@1.0.0"
    },
    "microsoft": {
      "host": {
        "AzureML": {
          "notebookHasBeenCompleted": true
        }
      }
    }
  },
  "nbformat": 4,
  "nbformat_minor": 2
}